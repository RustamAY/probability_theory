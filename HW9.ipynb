{
  "cells": [
    {
      "cell_type": "markdown",
      "metadata": {},
      "source": [
        "1. Даны значения величины заработной платы заемщиков банка (zp) и значения их поведенческого кредитного скоринга (ks): zp = [35, 45, 190, 200, 40, 70, 54, 150, 120, 110], ks = [401, 574, 874, 919, 459, 739, 653, 902, 746, 832]. Используя математические операции, посчитать коэффициенты линейной регрессии, приняв за X заработную плату (то есть, zp - признак), а за y - значения скорингового балла (то есть, ks - целевая переменная). Произвести расчет как с использованием intercept, так и без."
      ]
    },
    {
      "cell_type": "code",
      "execution_count": null,
      "metadata": {
        "trusted": true
      },
      "outputs": [
        {
          "ename": "",
          "evalue": "",
          "output_type": "error",
          "traceback": [
            "\u001b[1;31mДля выполнения ячеек с \"c:\\Users\\RustamYunusov\\AppData\\Local\\Microsoft\\WindowsApps\\python3.10.exe\" требуется пакет ipykernel.\n",
            "\u001b[1;31mRun the following command to install 'ipykernel' into the Python environment. \n",
            "\u001b[1;31mCommand: 'c:/Users/RustamYunusov/AppData/Local/Microsoft/WindowsApps/python3.10.exe -m pip install ipykernel -U --user --force-reinstall'"
          ]
        }
      ],
      "source": [
        "import pandas as pd\n",
        "import numpy as np\n",
        "import matplotlib.pyplot as plt\n",
        "%matplotlib inline"
      ]
    },
    {
      "cell_type": "code",
      "execution_count": null,
      "metadata": {
        "trusted": true
      },
      "outputs": [],
      "source": [
        "zp = np.array([35, 45, 190, 200, 40, 70, 54, 150, 120, 110])\n",
        "ks = np.array([401, 574, 874, 919, 459, 739, 653, 902, 746, 832])"
      ]
    },
    {
      "cell_type": "code",
      "execution_count": null,
      "metadata": {
        "trusted": true
      },
      "outputs": [],
      "source": [
        "b = ((zp * ks).mean() - zp.mean() * ks.mean()) / ((zp ** 2).mean() - (zp.mean() ** 2))\n",
        "b"
      ]
    },
    {
      "cell_type": "code",
      "execution_count": null,
      "metadata": {
        "trusted": true
      },
      "outputs": [],
      "source": [
        "a = ks.mean() - b * zp.mean()\n",
        "a"
      ]
    },
    {
      "cell_type": "code",
      "execution_count": null,
      "metadata": {
        "trusted": true
      },
      "outputs": [],
      "source": [
        "plt.scatter(zp, ks)\n",
        "plt.plot(zp, a + b * zp)"
      ]
    },
    {
      "cell_type": "code",
      "execution_count": null,
      "metadata": {
        "trusted": true
      },
      "outputs": [],
      "source": [
        "mse_ = np.sum(((a + b * zp) - ks) ** 2 / 10)\n",
        "mse_"
      ]
    },
    {
      "cell_type": "markdown",
      "metadata": {},
      "source": [
        "Расчет  без interсept"
      ]
    },
    {
      "cell_type": "code",
      "execution_count": null,
      "metadata": {
        "trusted": true
      },
      "outputs": [],
      "source": [
        "zp = zp.reshape(1, len(zp))\n",
        "ks = ks.reshape(1, len(ks))"
      ]
    },
    {
      "cell_type": "code",
      "execution_count": null,
      "metadata": {
        "trusted": true
      },
      "outputs": [],
      "source": [
        "np.dot(np.dot(np.linalg.inv(np.dot(zp, zp.T)), zp), ks.T)"
      ]
    },
    {
      "cell_type": "code",
      "execution_count": null,
      "metadata": {
        "trusted": true
      },
      "outputs": [],
      "source": [
        "mse_ = np.sum(((0 + 5.88982042 * zp) - ks) ** 2 / 10)\n",
        "mse_"
      ]
    },
    {
      "cell_type": "code",
      "execution_count": null,
      "metadata": {
        "trusted": true
      },
      "outputs": [],
      "source": [
        "def mse_(w1, y=ks, X=zp, n=10):\n",
        "    return np.sum((w1 * X - y) ** 2) / n"
      ]
    },
    {
      "cell_type": "code",
      "execution_count": null,
      "metadata": {
        "trusted": true
      },
      "outputs": [],
      "source": [
        "mse_(5.88982042)"
      ]
    },
    {
      "cell_type": "markdown",
      "metadata": {},
      "source": [
        "Расчет с intercept"
      ]
    },
    {
      "cell_type": "code",
      "execution_count": null,
      "metadata": {
        "trusted": true
      },
      "outputs": [],
      "source": [
        "zp = np.vstack([np.ones((1, 10)), zp])"
      ]
    },
    {
      "cell_type": "code",
      "execution_count": null,
      "metadata": {
        "trusted": true
      },
      "outputs": [],
      "source": [
        "np.dot(np.dot(np.linalg.inv(np.dot(zp, zp.T)), zp), ks.T)"
      ]
    },
    {
      "cell_type": "markdown",
      "metadata": {},
      "source": [
        "2. Посчитать коэффициент линейной регрессии при заработной плате (zp), используя градиентный спуск (без intercept)."
      ]
    },
    {
      "cell_type": "code",
      "execution_count": null,
      "metadata": {
        "trusted": true
      },
      "outputs": [],
      "source": [
        "zp = np.array([35, 45, 190, 200, 40, 70, 54, 150, 120, 110])\n",
        "ks = np.array([401, 574, 874, 919, 459, 739, 653, 902, 746, 832])"
      ]
    },
    {
      "cell_type": "code",
      "execution_count": null,
      "metadata": {
        "trusted": true
      },
      "outputs": [],
      "source": [
        "alpha = 1e-6\n",
        "w1 = 0.1\n",
        "def mse_(w1, y=ks, X=zp, n=10):\n",
        "    return np.sum((w1 * X - y) ** 2) / n"
      ]
    },
    {
      "cell_type": "code",
      "execution_count": null,
      "metadata": {
        "trusted": true
      },
      "outputs": [],
      "source": [
        "for i in range(1000):\n",
        "    fp = (1 / 10) * np.sum(2 * (w1 * zp - ks) * zp)\n",
        "    w1 -= alpha * fp\n",
        "    if i % 100 == 0:\n",
        "        print(f'iteration: {i}, w1 : {w1}, mse: {mse_(w1) }')"
      ]
    },
    {
      "cell_type": "code",
      "execution_count": null,
      "metadata": {},
      "outputs": [],
      "source": [
        "zp = np.array([35, 45, 190, 200, 40, 70, 54, 150, 120, 110])\n",
        "ks = np.array([401, 574, 874, 919, 459, 739, 653, 902, 746, 832])\n",
        "alpha = 5e-5\n",
        "w1 = 0.1\n",
        "w0 = 0.1\n",
        "def mse_(w0, w1, y=ks, X=zp, n=10):\n",
        "    return np.sum((w0 + w1 * X - y) ** 2) / n\n",
        "for i in range(1000001):\n",
        "    fp1 = (1 / 10) * np.sum(2 * (w0 + w1 * zp - ks) * zp)\n",
        "    fp0 = (1 / 10) * np.sum(2 * (w0 + w1 * zp - ks))\n",
        "w1 -= alpha * fp1\n",
        "w0 -= alpha * fp0\n",
        "if i % 100000 == 0:\n",
        "    print(f'iteration: {i}, w0 : {w0}, w1 : {w1}, mse: {mse_(w0, w1) }')"
      ]
    }
  ],
  "metadata": {
    "kernelspec": {
      "display_name": "Python 3",
      "language": "python",
      "name": "python3"
    },
    "language_info": {
      "codemirror_mode": {
        "name": "ipython",
        "version": 3
      },
      "file_extension": ".py",
      "mimetype": "text/x-python",
      "name": "python",
      "nbconvert_exporter": "python",
      "pygments_lexer": "ipython3",
      "version": "3.10.11"
    }
  },
  "nbformat": 4,
  "nbformat_minor": 4
}
