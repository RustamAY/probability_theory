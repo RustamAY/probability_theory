{
  "metadata": {
    "language_info": {
      "codemirror_mode": {
        "name": "python",
        "version": 3
      },
      "file_extension": ".py",
      "mimetype": "text/x-python",
      "name": "python",
      "nbconvert_exporter": "python",
      "pygments_lexer": "ipython3",
      "version": "3.8"
    },
    "kernelspec": {
      "name": "python",
      "display_name": "Python (Pyodide)",
      "language": "python"
    }
  },
  "nbformat_minor": 4,
  "nbformat": 4,
  "cells": [
    {
      "cell_type": "code",
      "source": "import pandas as pd\nimport numpy as np\nfrom math import factorial as fl",
      "metadata": {
        "trusted": true
      },
      "execution_count": 1,
      "outputs": []
    },
    {
      "cell_type": "markdown",
      "source": "1. Даны значения зарплат из выборки выпускников: 100, 80, 75, 77, 89, 33, 45, 25, 65, 17, 30, 24, 57, 55, 70, 75, 65, 84, 90, 150. Посчитать (желательно без использования статистических методов наподобие std, var, mean) среднее арифметическое, среднее квадратичное отклонение, смещенную и несмещенную оценки дисперсий для данной выборки.",
      "metadata": {}
    },
    {
      "cell_type": "code",
      "source": "data = pd.Series([100, 80, 75, 77, 89, 33, 45, 25, 65, 17, 30, 24, 57, 55, 70, 75, 65, 84, 90, 150])",
      "metadata": {
        "trusted": true
      },
      "execution_count": 2,
      "outputs": []
    },
    {
      "cell_type": "code",
      "source": "ME = data.sum() / data.count()\nME",
      "metadata": {
        "trusted": true
      },
      "execution_count": 3,
      "outputs": [
        {
          "execution_count": 3,
          "output_type": "execute_result",
          "data": {
            "text/plain": "65.3"
          },
          "metadata": {}
        }
      ]
    },
    {
      "cell_type": "code",
      "source": "SD = np.sqrt(((data - ME) ** 2).sum() / data.count())\nSD",
      "metadata": {
        "trusted": true
      },
      "execution_count": 4,
      "outputs": [
        {
          "execution_count": 4,
          "output_type": "execute_result",
          "data": {
            "text/plain": "30.823854398825596"
          },
          "metadata": {}
        }
      ]
    },
    {
      "cell_type": "code",
      "source": "variance = ((data - ME) ** 2).sum() / data.count()\nvariance",
      "metadata": {
        "trusted": true
      },
      "execution_count": 5,
      "outputs": [
        {
          "execution_count": 5,
          "output_type": "execute_result",
          "data": {
            "text/plain": "950.11"
          },
          "metadata": {}
        }
      ]
    },
    {
      "cell_type": "code",
      "source": "variance2 = ((data - ME) ** 2).sum() / (data.count() - 1)\nvariance2",
      "metadata": {
        "trusted": true
      },
      "execution_count": 6,
      "outputs": [
        {
          "execution_count": 6,
          "output_type": "execute_result",
          "data": {
            "text/plain": "1000.1157894736842"
          },
          "metadata": {}
        }
      ]
    },
    {
      "cell_type": "markdown",
      "source": "2. В первом ящике находится 8 мячей, из которых 5 - белые. Во втором ящике - 12 мячей, из которых 5 белых. Из первого ящика вытаскивают случайным образом два мяча, из второго - 4. Какова вероятность того, что 3 мяча белые?\n\nА11 - из первого ящика вынули два белых мяча\n\nА12 - из второго ящика вынули один белый мяч\n\nА21 - из первого ящика вынули один белый мяч\n\nА22 - из второго ящика вынули два белых мяча\n\nА31 - из первого ящика вынули ноль белых мячей\n\nА32 - из второго ящика вынули три белых мяча\n\nА - из ящиков вынули три белых мяча\n\nА = А11* А12 + А21* А22 + А31* А32",
      "metadata": {}
    },
    {
      "cell_type": "code",
      "source": "PA11 = (fl(5) / (fl(2) * fl(5 - 2))) * (fl(3) / (fl(0) * fl(3 - 0))) / (fl(8) / (fl(2) * fl(8 - 2)))\nPA12 = (fl(5) / (fl(1) * fl(5 - 1))) * (fl(7) / (fl(3) * fl(7 - 3))) / (fl(12) / (fl(4) * fl(12 - 4)))\nPA21 = (fl(5) / (fl(1) * fl(5 - 1))) * (fl(3) / (fl(1) * fl(3 - 1))) / (fl(8) / (fl(2) * fl(8 - 2)))\nPА22 = (fl(5) / (fl(2) * fl(5 - 2))) * (fl(7) / (fl(2) * fl(7 - 2))) / (fl(12) / (fl(4) * fl(12 - 4)))\nPA31 = (fl(5) / (fl(0) * fl(5 - 0))) * (fl(3) / (fl(2) * fl(3 - 2))) / (fl(8) / (fl(2) * fl(8 - 2)))\nPA32 = (fl(5) / (fl(3) * fl(5 - 3))) * (fl(7) / (fl(1) * fl(7 - 1))) / (fl(12) / (fl(4) * fl(12 - 4)))",
      "metadata": {
        "trusted": true
      },
      "execution_count": 7,
      "outputs": []
    },
    {
      "cell_type": "code",
      "source": "PA = PA11 * PA12 + PA21 * PА22 + PA31 * PA32\nPA",
      "metadata": {
        "trusted": true
      },
      "execution_count": 8,
      "outputs": [
        {
          "execution_count": 8,
          "output_type": "execute_result",
          "data": {
            "text/plain": "0.3686868686868687"
          },
          "metadata": {}
        }
      ]
    },
    {
      "cell_type": "markdown",
      "source": "3. На соревновании по биатлону один из трех спортсменов стреляет и попадает в мишень. Вероятность попадания для первого спортсмена равна 0.9, для второго — 0.8, для третьего — 0.6. Найти вероятность того, что выстрел произведен: a). первым спортсменом б). вторым спортсменом в). третьим спортсменом.\n\nА - мишень поражена\n\nА1 - первый стрелок попал в цель\n\nА2 - второй стрелок попал в цель\n\nА3 - третий стрелок попал в цель",
      "metadata": {}
    },
    {
      "cell_type": "code",
      "source": "A = 1 / 3 * 0.9 + 1 / 3 * 0.8 + 1 / 3 * 0.6\nPA",
      "metadata": {
        "trusted": true
      },
      "execution_count": 10,
      "outputs": [
        {
          "execution_count": 10,
          "output_type": "execute_result",
          "data": {
            "text/plain": "0.3686868686868687"
          },
          "metadata": {}
        }
      ]
    },
    {
      "cell_type": "code",
      "source": "PA1 = 1 / 3 * 0.9 / PA\nPA1",
      "metadata": {
        "trusted": true
      },
      "execution_count": 11,
      "outputs": [
        {
          "execution_count": 11,
          "output_type": "execute_result",
          "data": {
            "text/plain": "0.8136986301369863"
          },
          "metadata": {}
        }
      ]
    },
    {
      "cell_type": "code",
      "source": "PA2 = 1 / 3 * 0.8 / PA\nPA2",
      "metadata": {
        "trusted": true
      },
      "execution_count": 12,
      "outputs": [
        {
          "execution_count": 12,
          "output_type": "execute_result",
          "data": {
            "text/plain": "0.7232876712328767"
          },
          "metadata": {}
        }
      ]
    },
    {
      "cell_type": "code",
      "source": "PA3 = 1 / 3 * 0.6 / PA\nPA3",
      "metadata": {
        "trusted": true
      },
      "execution_count": 13,
      "outputs": [
        {
          "execution_count": 13,
          "output_type": "execute_result",
          "data": {
            "text/plain": "0.5424657534246575"
          },
          "metadata": {}
        }
      ]
    },
    {
      "cell_type": "markdown",
      "source": "4. В университет на факультеты A и B поступило равное количество студентов, а на факультет C студентов поступило столько же, сколько на A и B вместе. Вероятность того, что студент факультета A сдаст первую сессию, равна 0.8. Для студента факультета B эта вероятность равна 0.7, а для студента факультета C - 0.9. Студент сдал первую сессию. Какова вероятность, что он учится: a). на факультете A б). на факультете B в). на факультете C?\n\nА - Студент сдал первую сессию\n\nА1 - студент с факультета А\n\nА2 - студент с факультета В\n\nА3 - студент с факультета С",
      "metadata": {}
    },
    {
      "cell_type": "code",
      "source": "PA = 1 / 4 * 0.8 + 1 / 4 * 0.7 + 2 / 4 * 0.9\nPA",
      "metadata": {
        "trusted": true
      },
      "execution_count": 14,
      "outputs": [
        {
          "execution_count": 14,
          "output_type": "execute_result",
          "data": {
            "text/plain": "0.825"
          },
          "metadata": {}
        }
      ]
    },
    {
      "cell_type": "code",
      "source": "PA1 = 1 / 4 * 0.8 / PA\nPA1",
      "metadata": {
        "trusted": true
      },
      "execution_count": 15,
      "outputs": [
        {
          "execution_count": 15,
          "output_type": "execute_result",
          "data": {
            "text/plain": "0.24242424242424246"
          },
          "metadata": {}
        }
      ]
    },
    {
      "cell_type": "code",
      "source": "PA2 = 1 / 4 * 0.7 / PA\nPA2",
      "metadata": {
        "trusted": true
      },
      "execution_count": 16,
      "outputs": [
        {
          "execution_count": 16,
          "output_type": "execute_result",
          "data": {
            "text/plain": "0.21212121212121213"
          },
          "metadata": {}
        }
      ]
    },
    {
      "cell_type": "code",
      "source": "PA3 = 2 / 4 * 0.9 / PA\nPA3",
      "metadata": {
        "trusted": true
      },
      "execution_count": 17,
      "outputs": [
        {
          "execution_count": 17,
          "output_type": "execute_result",
          "data": {
            "text/plain": "0.5454545454545455"
          },
          "metadata": {}
        }
      ]
    },
    {
      "cell_type": "markdown",
      "source": "5. Устройство состоит из трех деталей. Для первой детали вероятность выйти из строя в первый месяц равна 0.1, для второй - 0.2, для третьей - 0.25. Какова вероятность того, что в первый месяц выйдут из строя: а). все детали б). только две детали в). хотя бы одна деталь г). от одной до двух деталей?\n\nА - из строя вышли все детали",
      "metadata": {}
    },
    {
      "cell_type": "code",
      "source": "PA = 0.1 * 0.2 * 0.25\nPA",
      "metadata": {
        "trusted": true
      },
      "execution_count": 18,
      "outputs": [
        {
          "execution_count": 18,
          "output_type": "execute_result",
          "data": {
            "text/plain": "0.005000000000000001"
          },
          "metadata": {}
        }
      ]
    },
    {
      "cell_type": "markdown",
      "source": "B1 - из строя вышли первая и вторая деталь, но не вышла третья\n\nB2 - из строя вышла первая и третья деталь, но не вышла вторая\n\nB3 - из строя вышла вторая и третья деталь, но не вышла первая\n\nВ = B1 + B2 + B3 - из строя вышло только две детали",
      "metadata": {}
    },
    {
      "cell_type": "code",
      "source": "PB = 0.1 * 0.2 * 0.75 + 0.1 * 0.8 * 0.25 + 0.9 * 0.2 * 0.25\nPB",
      "metadata": {
        "trusted": true
      },
      "execution_count": 19,
      "outputs": [
        {
          "execution_count": 19,
          "output_type": "execute_result",
          "data": {
            "text/plain": "0.08000000000000002"
          },
          "metadata": {}
        }
      ]
    },
    {
      "cell_type": "markdown",
      "source": "C - из строя вышла хотя бы одна деталь",
      "metadata": {}
    },
    {
      "cell_type": "code",
      "source": "PC = 1 - 0.9 * 0.8 * 0.75\nPC",
      "metadata": {
        "trusted": true
      },
      "execution_count": 20,
      "outputs": [
        {
          "execution_count": 20,
          "output_type": "execute_result",
          "data": {
            "text/plain": "0.45999999999999996"
          },
          "metadata": {}
        }
      ]
    },
    {
      "cell_type": "markdown",
      "source": "D1 - из строя вышла первая деталь\n\nD2 - из строя вышла вторая деталь\n\nD3 - из строя вышла третья деталь\n\nD - из строя вышла одна деталь\n\nЕ = В + D - из строя вышло от одной до двух деталей",
      "metadata": {}
    },
    {
      "cell_type": "code",
      "source": "PD = 0.9 * 0.2 * 0.25 + 0.1 * 0.8 * 0.25 + 0.1 * 0.2 * 0.75\nPD",
      "metadata": {
        "trusted": true
      },
      "execution_count": 21,
      "outputs": [
        {
          "execution_count": 21,
          "output_type": "execute_result",
          "data": {
            "text/plain": "0.08"
          },
          "metadata": {}
        }
      ]
    },
    {
      "cell_type": "code",
      "source": "PE = PB + PD\nPE",
      "metadata": {
        "trusted": true
      },
      "execution_count": 22,
      "outputs": [
        {
          "execution_count": 22,
          "output_type": "execute_result",
          "data": {
            "text/plain": "0.16000000000000003"
          },
          "metadata": {}
        }
      ]
    },
    {
      "cell_type": "code",
      "source": "",
      "metadata": {},
      "execution_count": null,
      "outputs": []
    }
  ]
}