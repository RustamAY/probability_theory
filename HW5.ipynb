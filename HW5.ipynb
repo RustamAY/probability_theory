{
  "metadata": {
    "language_info": {
      "codemirror_mode": {
        "name": "python",
        "version": 3
      },
      "file_extension": ".py",
      "mimetype": "text/x-python",
      "name": "python",
      "nbconvert_exporter": "python",
      "pygments_lexer": "ipython3",
      "version": "3.8"
    },
    "kernelspec": {
      "name": "python",
      "display_name": "Python (Pyodide)",
      "language": "python"
    }
  },
  "nbformat_minor": 4,
  "nbformat": 4,
  "cells": [
    {
      "cell_type": "code",
      "source": "import pandas as pd\nimport numpy as np\nfrom statsmodels.stats.weightstats import _tconfint_generic as t_stat\nimport scipy.stats as stats \nimport math",
      "metadata": {
        "trusted": true
      },
      "execution_count": 28,
      "outputs": []
    },
    {
      "cell_type": "markdown",
      "source": "1. Когда используется критерий Стьюдента, а когда Z –критерий?\n\nZ –критерий используется когда два обычных распределения имеют известные изменения, и когда в эксперименте используется большой размер выборки.\n\nКритерий t-Стьюдента используется для определения статистической значимости различий средних величин.",
      "metadata": {}
    },
    {
      "cell_type": "markdown",
      "source": "2. Проведите тест гипотезы. Утверждается, что шарики для подшипников, изготовленные автоматическим станком, имеют средний диаметр 17 мм. Используя односторонний критерий с α=0,05, проверить эту гипотезу, если в выборке из n=100 шариков средний диаметр оказался равным 17.5 мм, а дисперсия известна и равна 4 кв. мм.\n\nСформулируем нулевую гипотезу:\n$H0: \\mu=\\mu_0=17$, где $\\mu$ и $\\mu_0$ средние выборки и генеральной совокупности и выборки, соответственно.\n\nАльтернативная гипотеза:\n\n$H1: \\mu>\\mu_0$\n\nПоскольку нам известны и среднее и дисперсия генеральной совокупности, то для проверки гипотезы будем использовать $z$-критерий.\n\n$z_н=\\frac{\\bar X-\\mu_0}{\\sigma/\\sqrt n}$, где\n\n$\\bar X=\\mu=17.5$ среднее по выборке,\n\n$\\sigma=\\sqrt 4=2$ среднее квадратическое отклонение генеральной совокупности\n\n$n=100$ размер выборки.",
      "metadata": {}
    },
    {
      "cell_type": "code",
      "source": "z=(17.5-17)/0.2\nprint(f'Наблюдаемое значение z-критерия: {z: .4f}')",
      "metadata": {
        "trusted": true
      },
      "execution_count": 37,
      "outputs": [
        {
          "name": "stdout",
          "text": "Наблюдаемое значение z-критерия:  2.5000\n",
          "output_type": "stream"
        }
      ]
    },
    {
      "cell_type": "markdown",
      "source": "Найдем табличное значение z-критерия, для α=0,05",
      "metadata": {}
    },
    {
      "cell_type": "code",
      "source": "zt=stats.norm.ppf(0.95)\nprint(f'Табличное значение z-критерия: {zt: .4f}')",
      "metadata": {
        "trusted": true
      },
      "execution_count": 35,
      "outputs": [
        {
          "name": "stdout",
          "text": "Табличное значение z-критерия:  1.6449\n",
          "output_type": "stream"
        }
      ]
    },
    {
      "cell_type": "markdown",
      "source": "Сравним полученные значения:",
      "metadata": {}
    },
    {
      "cell_type": "code",
      "source": "z<zt",
      "metadata": {
        "trusted": true
      },
      "execution_count": 38,
      "outputs": [
        {
          "execution_count": 38,
          "output_type": "execute_result",
          "data": {
            "text/plain": "False"
          },
          "metadata": {}
        }
      ]
    },
    {
      "cell_type": "markdown",
      "source": "Поскольку $z_н>z_t$, **отвергаем** нулевую гипотезу на уровне значимости $\\alpha=0.05$",
      "metadata": {}
    },
    {
      "cell_type": "markdown",
      "source": "3. Проведите тест гипотезы. Продавец утверждает, что средний вес пачки печенья составляет 200 г. Из партии извлечена выборка из 10 пачек. Вес каждой пачки составляет: 202, 203, 199, 197, 195, 201, 200, 204, 194, 190. Известно, что их веса распределены нормально. Верно ли утверждение продавца, если учитывать, что доверительная вероятность равна 99%? (Провести двусторонний тест.)\n\nH0: M = 200\n\nH1: M != 200",
      "metadata": {}
    },
    {
      "cell_type": "code",
      "source": "X = np.array([202, 203, 199, 197, 195, 201, 200, 204, 194, 190])\nmean_X = X.mean()\nstd_X = X.std(ddof=1)",
      "metadata": {
        "trusted": true
      },
      "execution_count": 5,
      "outputs": []
    },
    {
      "cell_type": "code",
      "source": "t_fact = (mean_X - 200) / std_X * np.sqrt(10)\nt_fact",
      "metadata": {
        "trusted": true
      },
      "execution_count": 16,
      "outputs": [
        {
          "execution_count": 16,
          "output_type": "execute_result",
          "data": {
            "text/plain": "-1.0651074037450896"
          },
          "metadata": {}
        }
      ]
    },
    {
      "cell_type": "code",
      "source": "t_cr = stats.t.ppf(0.995,len(X)-1)\nprint(f'Табличное значение t-критерия: {t_cr: .4f}')",
      "metadata": {
        "trusted": true
      },
      "execution_count": 30,
      "outputs": [
        {
          "name": "stdout",
          "text": "Табличное значение t-критерия:  3.2498\n",
          "output_type": "stream"
        }
      ]
    },
    {
      "cell_type": "markdown",
      "source": "Сравним полученные значения (поскольку у нас двусторонний критерий, то используем абсолютное значение полученного t-критерия):",
      "metadata": {}
    },
    {
      "cell_type": "code",
      "source": "np.abs(t_fact)<t_cr",
      "metadata": {
        "trusted": true
      },
      "execution_count": 31,
      "outputs": [
        {
          "execution_count": 31,
          "output_type": "execute_result",
          "data": {
            "text/plain": "True"
          },
          "metadata": {}
        }
      ]
    },
    {
      "cell_type": "markdown",
      "source": "т.к. abs(t_fact) < t_cr нулевая гипотеза принимается",
      "metadata": {}
    },
    {
      "cell_type": "markdown",
      "source": "4. Есть ли статистически значимые различия в росте дочерей? Рост матерей 172, 177, 158, 170, 178,175, 164, 160, 169 Рост взрослых дочерей: 173, 175, 162, 174, 175, 168, 155, 170, 160",
      "metadata": {}
    },
    {
      "cell_type": "markdown",
      "source": "не разобрался =(",
      "metadata": {}
    },
    {
      "cell_type": "code",
      "source": "",
      "metadata": {},
      "execution_count": null,
      "outputs": []
    }
  ]
}