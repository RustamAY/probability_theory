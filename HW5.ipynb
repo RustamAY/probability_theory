{
  "cells": [
    {
      "cell_type": "code",
      "execution_count": 28,
      "metadata": {
        "trusted": true
      },
      "outputs": [],
      "source": [
        "import pandas as pd\n",
        "import numpy as np\n",
        "from statsmodels.stats.weightstats import _tconfint_generic as t_stat\n",
        "import scipy.stats as stats \n",
        "import math"
      ]
    },
    {
      "cell_type": "markdown",
      "metadata": {},
      "source": [
        "1. Когда используется критерий Стьюдента, а когда Z –критерий?\n",
        "\n",
        "Z –критерий используется когда два обычных распределения имеют известные изменения, и когда в эксперименте используется большой размер выборки.\n",
        "\n",
        "Критерий t-Стьюдента используется для определения статистической значимости различий средних величин."
      ]
    },
    {
      "cell_type": "markdown",
      "metadata": {},
      "source": [
        "2. Проведите тест гипотезы. Утверждается, что шарики для подшипников, изготовленные автоматическим станком, имеют средний диаметр 17 мм. Используя односторонний критерий с α=0,05, проверить эту гипотезу, если в выборке из n=100 шариков средний диаметр оказался равным 17.5 мм, а дисперсия известна и равна 4 кв. мм.\n",
        "\n",
        "Сформулируем нулевую гипотезу:\n",
        "$H0: \\mu=\\mu_0=17$, где $\\mu$ и $\\mu_0$ средние выборки и генеральной совокупности и выборки, соответственно.\n",
        "\n",
        "Альтернативная гипотеза:\n",
        "\n",
        "$H1: \\mu>\\mu_0$\n",
        "\n",
        "Поскольку нам известны и среднее и дисперсия генеральной совокупности, то для проверки гипотезы будем использовать $z$-критерий.\n",
        "\n",
        "$z_н=\\frac{\\bar X-\\mu_0}{\\sigma/\\sqrt n}$, где\n",
        "\n",
        "$\\bar X=\\mu=17.5$ среднее по выборке,\n",
        "\n",
        "$\\sigma=\\sqrt 4=2$ среднее квадратическое отклонение генеральной совокупности\n",
        "\n",
        "$n=100$ размер выборки."
      ]
    },
    {
      "cell_type": "code",
      "execution_count": 37,
      "metadata": {
        "trusted": true
      },
      "outputs": [
        {
          "name": "stdout",
          "output_type": "stream",
          "text": [
            "Наблюдаемое значение z-критерия:  2.5000\n"
          ]
        }
      ],
      "source": [
        "z=(17.5-17)/0.2\n",
        "print(f'Наблюдаемое значение z-критерия: {z: .4f}')"
      ]
    },
    {
      "cell_type": "markdown",
      "metadata": {},
      "source": [
        "Найдем табличное значение z-критерия, для α=0,05"
      ]
    },
    {
      "cell_type": "code",
      "execution_count": 35,
      "metadata": {
        "trusted": true
      },
      "outputs": [
        {
          "name": "stdout",
          "output_type": "stream",
          "text": [
            "Табличное значение z-критерия:  1.6449\n"
          ]
        }
      ],
      "source": [
        "zt=stats.norm.ppf(0.95)\n",
        "print(f'Табличное значение z-критерия: {zt: .4f}')"
      ]
    },
    {
      "cell_type": "markdown",
      "metadata": {},
      "source": [
        "Сравним полученные значения:"
      ]
    },
    {
      "cell_type": "code",
      "execution_count": 38,
      "metadata": {
        "trusted": true
      },
      "outputs": [
        {
          "data": {
            "text/plain": [
              "False"
            ]
          },
          "execution_count": 38,
          "metadata": {},
          "output_type": "execute_result"
        }
      ],
      "source": [
        "z<zt"
      ]
    },
    {
      "cell_type": "markdown",
      "metadata": {},
      "source": [
        "Поскольку $z_н>z_t$, **отвергаем** нулевую гипотезу на уровне значимости $\\alpha=0.05$"
      ]
    },
    {
      "cell_type": "markdown",
      "metadata": {},
      "source": [
        "3. Проведите тест гипотезы. Продавец утверждает, что средний вес пачки печенья составляет 200 г. Из партии извлечена выборка из 10 пачек. Вес каждой пачки составляет: 202, 203, 199, 197, 195, 201, 200, 204, 194, 190. Известно, что их веса распределены нормально. Верно ли утверждение продавца, если учитывать, что доверительная вероятность равна 99%? (Провести двусторонний тест.)\n",
        "\n",
        "H0: M = 200\n",
        "\n",
        "H1: M != 200"
      ]
    },
    {
      "cell_type": "code",
      "execution_count": 5,
      "metadata": {
        "trusted": true
      },
      "outputs": [],
      "source": [
        "X = np.array([202, 203, 199, 197, 195, 201, 200, 204, 194, 190])\n",
        "mean_X = X.mean()\n",
        "std_X = X.std(ddof=1)"
      ]
    },
    {
      "cell_type": "code",
      "execution_count": 16,
      "metadata": {
        "trusted": true
      },
      "outputs": [
        {
          "data": {
            "text/plain": [
              "-1.0651074037450896"
            ]
          },
          "execution_count": 16,
          "metadata": {},
          "output_type": "execute_result"
        }
      ],
      "source": [
        "t_fact = (mean_X - 200) / std_X * np.sqrt(10)\n",
        "t_fact"
      ]
    },
    {
      "cell_type": "code",
      "execution_count": 30,
      "metadata": {
        "trusted": true
      },
      "outputs": [
        {
          "name": "stdout",
          "output_type": "stream",
          "text": [
            "Табличное значение t-критерия:  3.2498\n"
          ]
        }
      ],
      "source": [
        "t_cr = stats.t.ppf(0.995,len(X)-1)\n",
        "print(f'Табличное значение t-критерия: {t_cr: .4f}')"
      ]
    },
    {
      "cell_type": "markdown",
      "metadata": {},
      "source": [
        "Сравним полученные значения (поскольку у нас двусторонний критерий, то используем абсолютное значение полученного t-критерия):"
      ]
    },
    {
      "cell_type": "code",
      "execution_count": 31,
      "metadata": {
        "trusted": true
      },
      "outputs": [
        {
          "data": {
            "text/plain": [
              "True"
            ]
          },
          "execution_count": 31,
          "metadata": {},
          "output_type": "execute_result"
        }
      ],
      "source": [
        "np.abs(t_fact)<t_cr"
      ]
    },
    {
      "cell_type": "markdown",
      "metadata": {},
      "source": [
        "т.к. abs(t_fact) < t_cr нулевая гипотеза принимается"
      ]
    },
    {
      "cell_type": "markdown",
      "metadata": {},
      "source": [
        "4. Есть ли статистически значимые различия в росте дочерей? Рост матерей 172, 177, 158, 170, 178,175, 164, 160, 169 Рост взрослых дочерей: 173, 175, 162, 174, 175, 168, 155, 170, 160"
      ]
    },
    {
      "cell_type": "markdown",
      "metadata": {},
      "source": [
        "не разобрался =("
      ]
    },
    {
      "cell_type": "code",
      "execution_count": null,
      "metadata": {},
      "outputs": [],
      "source": [
        "x = np.array([172, 177, 158, 170, 178, 175, 164, 160, 169])\n",
        "y = np.array([173, 175, 162, 174, 175, 168, 155, 170, 160])\n"
      ]
    }
  ],
  "metadata": {
    "kernelspec": {
      "display_name": "Python (Pyodide)",
      "language": "python",
      "name": "python"
    },
    "language_info": {
      "codemirror_mode": {
        "name": "python",
        "version": 3
      },
      "file_extension": ".py",
      "mimetype": "text/x-python",
      "name": "python",
      "nbconvert_exporter": "python",
      "pygments_lexer": "ipython3",
      "version": "3.8"
    }
  },
  "nbformat": 4,
  "nbformat_minor": 4
}
