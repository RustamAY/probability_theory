{
  "metadata": {
    "language_info": {
      "codemirror_mode": {
        "name": "python",
        "version": 3
      },
      "file_extension": ".py",
      "mimetype": "text/x-python",
      "name": "python",
      "nbconvert_exporter": "python",
      "pygments_lexer": "ipython3",
      "version": "3.8"
    },
    "kernelspec": {
      "name": "python",
      "display_name": "Python (Pyodide)",
      "language": "python"
    }
  },
  "nbformat_minor": 4,
  "nbformat": 4,
  "cells": [
    {
      "cell_type": "code",
      "source": "import pandas as pd\nimport numpy as np\nfrom math import factorial as fl\nimport scipy.stats as st",
      "metadata": {
        "trusted": true
      },
      "execution_count": 1,
      "outputs": []
    },
    {
      "cell_type": "markdown",
      "source": "1. Случайная непрерывная величина A имеет равномерное распределение на промежутке (200, 800]. Найдите ее среднее значение и дисперсию.",
      "metadata": {}
    },
    {
      "cell_type": "markdown",
      "source": "$M(X) = \\frac{a + b}{2} =$",
      "metadata": {}
    },
    {
      "cell_type": "code",
      "source": "MX = (200 + 800) / 2\nMX",
      "metadata": {
        "trusted": true
      },
      "execution_count": 2,
      "outputs": [
        {
          "execution_count": 2,
          "output_type": "execute_result",
          "data": {
            "text/plain": "500.0"
          },
          "metadata": {}
        }
      ]
    },
    {
      "cell_type": "markdown",
      "source": "$D(X) = \\frac{(b - a)^2}{12} =$",
      "metadata": {}
    },
    {
      "cell_type": "code",
      "source": "DX = (800 - 200) ** 2 / 12\nDX",
      "metadata": {
        "trusted": true
      },
      "execution_count": 3,
      "outputs": [
        {
          "execution_count": 3,
          "output_type": "execute_result",
          "data": {
            "text/plain": "30000.0"
          },
          "metadata": {}
        }
      ]
    },
    {
      "cell_type": "markdown",
      "source": "2. О случайной непрерывной равномерно распределенной величине B известно, что ее дисперсия равна 0.2. Можно ли найти правую границу величины B и ее среднее значение зная, что левая граница равна 0.5? Если да, найдите ее.",
      "metadata": {}
    },
    {
      "cell_type": "code",
      "source": "0.5 + np.sqrt(12 * 0.2)",
      "metadata": {
        "trusted": true
      },
      "execution_count": 4,
      "outputs": [
        {
          "execution_count": 4,
          "output_type": "execute_result",
          "data": {
            "text/plain": "2.049193338482967"
          },
          "metadata": {}
        }
      ]
    },
    {
      "cell_type": "markdown",
      "source": "3. Непрерывная случайная величина X распределена нормально и задана плотностью распределения f(x) = (1 / (4 * sqrt(2pi))) * exp((-(x+2)**2) / 32)\n\nНайдите:\n\nа) M(X)\n\nб) D(X)\n\nв) std(X) (среднее квадратичное отклонение)",
      "metadata": {}
    },
    {
      "cell_type": "markdown",
      "source": "В общем виде плотность нормального распределения имеет вид: $f(x) = \\frac{1}{\\sigma \\sqrt{2 \\pi}} e ^ {- \\frac{(x - a)^2}{2 \\sigma^2}},$",
      "metadata": {}
    },
    {
      "cell_type": "markdown",
      "source": "где $a = M(X)$\n\nследавательно:",
      "metadata": {}
    },
    {
      "cell_type": "code",
      "source": "MX = -2",
      "metadata": {
        "trusted": true
      },
      "execution_count": 5,
      "outputs": []
    },
    {
      "cell_type": "code",
      "source": "DX = 32 / 2\nDX",
      "metadata": {
        "trusted": true
      },
      "execution_count": 6,
      "outputs": [
        {
          "execution_count": 6,
          "output_type": "execute_result",
          "data": {
            "text/plain": "16.0"
          },
          "metadata": {}
        }
      ]
    },
    {
      "cell_type": "code",
      "source": "stdX = 4",
      "metadata": {
        "trusted": true
      },
      "execution_count": 7,
      "outputs": []
    },
    {
      "cell_type": "markdown",
      "source": "4.  Рост взрослого населения города X имеет нормальное распределение.\nПричем, средний рост равен 174 см, а среднее квадратичное отклонение равно 8 см.\n\nКакова вероятность того, что случайным образом выбранный взрослый человек имеет рост:\n\nа). больше 182 см",
      "metadata": {}
    },
    {
      "cell_type": "code",
      "source": "hight = st.norm(loc=174, scale=8)\n1 - hight.cdf(182)",
      "metadata": {
        "trusted": true
      },
      "execution_count": 16,
      "outputs": [
        {
          "execution_count": 16,
          "output_type": "execute_result",
          "data": {
            "text/plain": "0.15865525393145707"
          },
          "metadata": {}
        }
      ]
    },
    {
      "cell_type": "markdown",
      "source": "б). больше 190 см",
      "metadata": {}
    },
    {
      "cell_type": "code",
      "source": "1 - hight.cdf(190)",
      "metadata": {
        "trusted": true
      },
      "execution_count": 9,
      "outputs": [
        {
          "execution_count": 9,
          "output_type": "execute_result",
          "data": {
            "text/plain": "0.02275013194817921"
          },
          "metadata": {}
        }
      ]
    },
    {
      "cell_type": "markdown",
      "source": "в). от 166 см до 190 см",
      "metadata": {}
    },
    {
      "cell_type": "code",
      "source": "hight.cdf(190) - hight.cdf(166)",
      "metadata": {
        "trusted": true
      },
      "execution_count": 10,
      "outputs": [
        {
          "execution_count": 10,
          "output_type": "execute_result",
          "data": {
            "text/plain": "0.8185946141203637"
          },
          "metadata": {}
        }
      ]
    },
    {
      "cell_type": "markdown",
      "source": "г). от 166 см до 182 см",
      "metadata": {}
    },
    {
      "cell_type": "code",
      "source": "hight.cdf(182) - hight.cdf(166)",
      "metadata": {
        "trusted": true
      },
      "execution_count": 11,
      "outputs": [
        {
          "execution_count": 11,
          "output_type": "execute_result",
          "data": {
            "text/plain": "0.6826894921370859"
          },
          "metadata": {}
        }
      ]
    },
    {
      "cell_type": "markdown",
      "source": "д). от 158 см до 190 см",
      "metadata": {}
    },
    {
      "cell_type": "code",
      "source": "hight.cdf(190) - hight.cdf(158)",
      "metadata": {
        "trusted": true
      },
      "execution_count": 12,
      "outputs": [
        {
          "execution_count": 12,
          "output_type": "execute_result",
          "data": {
            "text/plain": "0.9544997361036416"
          },
          "metadata": {}
        }
      ]
    },
    {
      "cell_type": "markdown",
      "source": "е). не выше 150 см или не ниже 190 см",
      "metadata": {}
    },
    {
      "cell_type": "code",
      "source": "hight.cdf(150) + (1 - hight.cdf(190))",
      "metadata": {
        "trusted": true
      },
      "execution_count": 13,
      "outputs": [
        {
          "execution_count": 13,
          "output_type": "execute_result",
          "data": {
            "text/plain": "0.0241000299798093"
          },
          "metadata": {}
        }
      ]
    },
    {
      "cell_type": "markdown",
      "source": "ё). не выше 150 см или не ниже 198 см",
      "metadata": {}
    },
    {
      "cell_type": "code",
      "source": "hight.cdf(150) + (1 - hight.cdf(198))",
      "metadata": {
        "trusted": true
      },
      "execution_count": 14,
      "outputs": [
        {
          "execution_count": 14,
          "output_type": "execute_result",
          "data": {
            "text/plain": "0.0026997960632601965"
          },
          "metadata": {}
        }
      ]
    },
    {
      "cell_type": "markdown",
      "source": "ж). ниже 166 см.",
      "metadata": {}
    },
    {
      "cell_type": "code",
      "source": "hight.cdf(166)",
      "metadata": {
        "trusted": true
      },
      "execution_count": 15,
      "outputs": [
        {
          "execution_count": 15,
          "output_type": "execute_result",
          "data": {
            "text/plain": "0.15865525393145707"
          },
          "metadata": {}
        }
      ]
    },
    {
      "cell_type": "markdown",
      "source": "5. На сколько сигм (средних квадратичных отклонений) отклоняется рост человека, равный 190 см, от математического ожидания роста в популяции, в которой M(X) = 178 см и D(X) = 25 кв.см?",
      "metadata": {}
    },
    {
      "cell_type": "code",
      "source": "(190 - 178) / np.sqrt(25)",
      "metadata": {
        "trusted": true
      },
      "execution_count": 17,
      "outputs": [
        {
          "execution_count": 17,
          "output_type": "execute_result",
          "data": {
            "text/plain": "2.4"
          },
          "metadata": {}
        }
      ]
    },
    {
      "cell_type": "code",
      "source": "",
      "metadata": {},
      "execution_count": null,
      "outputs": []
    }
  ]
}