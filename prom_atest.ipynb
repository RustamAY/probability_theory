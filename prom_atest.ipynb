{
  "metadata": {
    "language_info": {
      "codemirror_mode": {
        "name": "python",
        "version": 3
      },
      "file_extension": ".py",
      "mimetype": "text/x-python",
      "name": "python",
      "nbconvert_exporter": "python",
      "pygments_lexer": "ipython3",
      "version": "3.8"
    },
    "kernelspec": {
      "name": "python",
      "display_name": "Python (Pyodide)",
      "language": "python"
    }
  },
  "nbformat_minor": 4,
  "nbformat": 4,
  "cells": [
    {
      "cell_type": "markdown",
      "source": "Провести дисперсионный анализ для определения того, есть ли различия среднего роста среди взрослых футболистов, хоккеистов и штангистов. Даны значения роста в трех группах случайно выбранных спортсменов: Футболисты: 173, 175, 180, 178, 177, 185, 183, 182. Хоккеисты: 177, 179, 180, 188, 177, 172, 171, 184, 180. Штангисты: 172, 173, 169, 177, 166, 180, 178, 177, 172, 166, 170. ",
      "metadata": {}
    },
    {
      "cell_type": "markdown",
      "source": "Примем за гипотезу H0 то, что различия статистически не значимы (т.е. примерно одинаковы). Для проверки этой гипотезы воспользуемся однофакторным дисперсионным анализом.",
      "metadata": {}
    },
    {
      "cell_type": "code",
      "source": "import numpy as np\nimport pandas as pd\nfrom scipy import stats",
      "metadata": {
        "trusted": true
      },
      "execution_count": 2,
      "outputs": []
    },
    {
      "cell_type": "code",
      "source": "y1 = np.array([173, 175, 180, 178, 177, 185, 183, 182], dtype=np.float64)\ny2 = np.array([177, 179, 180, 188, 177, 172, 171, 184, 180], dtype=np.float64)\ny3 = np.array([172, 173, 169, 177, 166, 180, 178, 177, 172, 166, 170], dtype=np.float64)",
      "metadata": {
        "trusted": true
      },
      "execution_count": 3,
      "outputs": []
    },
    {
      "cell_type": "code",
      "source": "n1 = y1.shape[0]\nn2 = y2.shape[0]\nn3 = y3.shape[0]",
      "metadata": {
        "trusted": true
      },
      "execution_count": 4,
      "outputs": []
    },
    {
      "cell_type": "code",
      "source": "y1_mean = y1.mean()\ny2_mean = y2.mean()\ny3_mean = y3.mean()\ny1_mean, y2_mean, y3_mean",
      "metadata": {
        "trusted": true
      },
      "execution_count": 5,
      "outputs": [
        {
          "execution_count": 5,
          "output_type": "execute_result",
          "data": {
            "text/plain": "(179.125, 178.66666666666666, 172.72727272727272)"
          },
          "metadata": {}
        }
      ]
    },
    {
      "cell_type": "code",
      "source": "y = np.concatenate([y1, y2, y3])\n\nprint(y)",
      "metadata": {
        "trusted": true
      },
      "execution_count": 6,
      "outputs": [
        {
          "name": "stdout",
          "text": "[173. 175. 180. 178. 177. 185. 183. 182. 177. 179. 180. 188. 177. 172.\n 171. 184. 180. 172. 173. 169. 177. 166. 180. 178. 177. 172. 166. 170.]\n",
          "output_type": "stream"
        }
      ]
    },
    {
      "cell_type": "code",
      "source": "y_mean = y.mean()\ny_mean",
      "metadata": {
        "trusted": true
      },
      "execution_count": 7,
      "outputs": [
        {
          "execution_count": 7,
          "output_type": "execute_result",
          "data": {
            "text/plain": "176.46428571428572"
          },
          "metadata": {}
        }
      ]
    },
    {
      "cell_type": "markdown",
      "source": "Найдём сумму квадратов отклонений средних групповых значений от общего среднего значения y",
      "metadata": {}
    },
    {
      "cell_type": "markdown",
      "source": "и остаточную сумму квадратов отклонений:",
      "metadata": {}
    },
    {
      "cell_type": "code",
      "source": "S2_F = n1 * (y1_mean - y_mean) ** 2 + n2 * (y2_mean - y_mean) ** 2 + n3 * (y3_mean - y_mean) ** 2\n\nS2_res = ((y1 - y1_mean) ** 2).sum() + ((y2 - y2_mean) ** 2).sum() + ((y3 - y3_mean) ** 2).sum()\n\nS2_F, S2_res",
      "metadata": {
        "trusted": true
      },
      "execution_count": 8,
      "outputs": [
        {
          "execution_count": 8,
          "output_type": "execute_result",
          "data": {
            "text/plain": "(253.9074675324678, 577.0568181818182)"
          },
          "metadata": {}
        }
      ]
    },
    {
      "cell_type": "markdown",
      "source": "Запишем несмещенные оценки дисперсий:",
      "metadata": {}
    },
    {
      "cell_type": "code",
      "source": "k = 3\nn = n1 + n2 + n3\n\nk1 = k - 1\nk2 = n - k\n\nsigma2_F = S2_F / k1\nsigma2_res = S2_res / k2\n\nsigma2_F, sigma2_res",
      "metadata": {
        "trusted": true
      },
      "execution_count": 9,
      "outputs": [
        {
          "execution_count": 9,
          "output_type": "execute_result",
          "data": {
            "text/plain": "(126.9537337662339, 23.08227272727273)"
          },
          "metadata": {}
        }
      ]
    },
    {
      "cell_type": "markdown",
      "source": "Итак, значение статистики T:",
      "metadata": {}
    },
    {
      "cell_type": "code",
      "source": "T = sigma2_F / sigma2_res\nT",
      "metadata": {
        "trusted": true
      },
      "execution_count": 10,
      "outputs": [
        {
          "execution_count": 10,
          "output_type": "execute_result",
          "data": {
            "text/plain": "5.500053450812598"
          },
          "metadata": {}
        }
      ]
    },
    {
      "cell_type": "markdown",
      "source": "Зафиксируем уровень значимости a=0.05 и для него найдём критическое значение F_crit:",
      "metadata": {}
    },
    {
      "cell_type": "code",
      "source": "alpha = 0.05\n\nF_crit = stats.f.ppf(1 - alpha, k1, k2)\nF_crit",
      "metadata": {
        "trusted": true
      },
      "execution_count": 12,
      "outputs": [
        {
          "execution_count": 12,
          "output_type": "execute_result",
          "data": {
            "text/plain": "3.3851899614491687"
          },
          "metadata": {}
        }
      ]
    },
    {
      "cell_type": "markdown",
      "source": "Видим, что T>F_crit, поэтому заключаем, что отличие среднего роста среди взрослых футболистов, хоккеистов и штангистов действительно является статистически значимым, гипотеза H0 отвергается.",
      "metadata": {}
    },
    {
      "cell_type": "code",
      "source": "",
      "metadata": {},
      "execution_count": null,
      "outputs": []
    }
  ]
}