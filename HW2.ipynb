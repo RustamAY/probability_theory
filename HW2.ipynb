{
  "metadata": {
    "language_info": {
      "codemirror_mode": {
        "name": "python",
        "version": 3
      },
      "file_extension": ".py",
      "mimetype": "text/x-python",
      "name": "python",
      "nbconvert_exporter": "python",
      "pygments_lexer": "ipython3",
      "version": "3.8"
    },
    "kernelspec": {
      "name": "python",
      "display_name": "Python (Pyodide)",
      "language": "python"
    }
  },
  "nbformat_minor": 4,
  "nbformat": 4,
  "cells": [
    {
      "cell_type": "code",
      "source": "import pandas as pd\nimport numpy as np\nfrom math import factorial as fl",
      "metadata": {
        "trusted": true
      },
      "execution_count": 1,
      "outputs": []
    },
    {
      "cell_type": "markdown",
      "source": "1. Вероятность того, что стрелок попадет в мишень, выстрелив один раз, равна 0.8. Стрелок выстрелил 100 раз. Найдите вероятность того, что стрелок попадет в цель ровно 85 раз.\n$$P_n(X=k) = C_n^k p^k q^{n-k}$$\n\nИспользуем биноминальное распределение с параметрами:\n\n- k = 85\n\n- n = 100\n\n- p = 0.8\n\n- q = 1 - p = 1 - 0.8 = 0.2\n$P_{100}(X=85) = C_{100}^{85} {0.8}^{85} {0.2}^{100-85} = $",
      "metadata": {}
    },
    {
      "cell_type": "code",
      "source": "P100 = (fl(100) / (fl(85) * fl(100 - 85))) * 0.8 ** 85 * 0.2 ** (100 - 85)\nprint(f'Вероятность того, что стрелок из ста выстрелов попадет в мишень ровно 85 раз = {P100 :.4f}')",
      "metadata": {
        "trusted": true
      },
      "execution_count": 2,
      "outputs": [
        {
          "name": "stdout",
          "text": "Вероятность того, что стрелок из ста выстрелов попадет в мишень ровно 85 раз = 0.0481\n",
          "output_type": "stream"
        }
      ]
    },
    {
      "cell_type": "markdown",
      "source": "2. Вероятность того, что лампочка перегорит в течение первого дня эксплуатации, равна 0.0004. В жилом комплексе после ремонта в один день включили 5000 новых лампочек. Какова вероятность, что ни одна из них не перегорит в первый день? Какова вероятность, что перегорят ровно две?\n\nА - не перегорела ни одна лампочка\n\n$P(A) = 1 - q ^ n$",
      "metadata": {}
    },
    {
      "cell_type": "code",
      "source": "P = 1 - (1 - 0.0004) ** 5000\n\nprint(f'Вероятность того, что не перегорит ни одна лампочка = {P :.3f}')",
      "metadata": {
        "trusted": true
      },
      "execution_count": 3,
      "outputs": [
        {
          "name": "stdout",
          "text": "Вероятность того, что не перегорит ни одна лампочка = 0.865\n",
          "output_type": "stream"
        }
      ]
    },
    {
      "cell_type": "markdown",
      "source": "3. Монету подбросили 144 раза. Какова вероятность, что орел выпадет ровно 70 раз?\nА - монета выпала 40 раз\n\nn = 144\n\nk = 70\n\np = 0.5\n\nq = 0.5\n\n$P_{144}(X=70) = C_{144}^{70} {0.5}^{70} {0.5}^{144-70} = $",
      "metadata": {}
    },
    {
      "cell_type": "code",
      "source": "P144 = (fl(144) / (fl(70) * fl(144 - 70))) * 0.5 ** 70 * 0.5 ** (144 - 70)\n\nprint(f'Вероятность того, что орел выпадет ровно 70 раз = {P144 :.4f}')",
      "metadata": {
        "trusted": true
      },
      "execution_count": 4,
      "outputs": [
        {
          "name": "stdout",
          "text": "Вероятность того, что орел выпадет ровно 70 раз = 0.0628\n",
          "output_type": "stream"
        }
      ]
    },
    {
      "cell_type": "markdown",
      "source": "4. В первом ящике находится 10 мячей, из которых 7 - белые. Во втором ящике - 11 мячей, из которых 9 белых. Из каждого ящика вытаскивают случайным образом по два мяча. Какова вероятность того, что все мячи белые? Какова вероятность того, что ровно два мяча белые? Какова вероятность того, что хотя бы один мяч белый?\n\nА1 - мячи, вынутые из первого ящика все белые\n\nА2 - мячи, вынутые из второго ящика все белые\n\nА = А1 * А2 - все мячи белые\n\n$P(A1) =  \\frac{C_{7}^{2}}{C_{10}^{2} }$\n\n$P(A2) =  \\frac{C_{9}^{2}}{C_{11}^{2} }$\n\n$P(A) = P(A1)*P(A2)$",
      "metadata": {}
    },
    {
      "cell_type": "code",
      "source": "PA1 = (fl(7) / (fl(2)*fl(7 - 2))) / (fl(10) / (fl(2)*fl(10 - 2)))\nPA2 = (fl(9) / (fl(2)*fl(9 - 2))) / (fl(11) / (fl(2)*fl(11 - 2)))\nprint(f'Вероятность того, что все мячи белые = {PA1 * PA2 :.3f}')",
      "metadata": {
        "trusted": true
      },
      "execution_count": 5,
      "outputs": [
        {
          "name": "stdout",
          "text": "Вероятность того, что все мячи белые = 0.305\n",
          "output_type": "stream"
        }
      ]
    },
    {
      "cell_type": "markdown",
      "source": "A11 - из первого ящика вынули два белых мяча\n\nА12 - из второго ящика вынули только черные мячи\n\nА21 - из второго ящика вынули два белых мяча\n\nА22 - из первого ящика вынули только черные мячи\n\nА31 - из первого ящика вынули один белый мячи\n\nА32 - из второго ящика вынули один белый мячи\n\nА = А11 * А12 + А21 * А22 + А31 * А32 - вынули ровно два белых мяча\n\n$P(A11) =  \\frac{C_{7}^{2}}{C_{10}^{2} }$\n\n$P(A12) = \\frac{C_{2}^{2}}{C_{11}^{2} }$",
      "metadata": {}
    },
    {
      "cell_type": "code",
      "source": "PA11A12 = (fl(7) / (fl(2)*fl(7 - 2))) / (fl(10) / (fl(2)*fl(10 - 2)))*(fl(2) / (fl(2)*fl(2 - 2))) / (fl(11) / (fl(2)*fl(11 - 2)))",
      "metadata": {
        "trusted": true
      },
      "execution_count": 11,
      "outputs": []
    },
    {
      "cell_type": "markdown",
      "source": "$P(A21) =\\frac{C_{3}^{2}}{C_{10}^{2} }$\n\n$P(A22) = \\frac{C_{9}^{2}}{C_{11}^{2} }$",
      "metadata": {}
    },
    {
      "cell_type": "code",
      "source": "PA21A22 = (fl(3) / (fl(2)*fl(3 - 2))) / (fl(10) / (fl(2)*fl(10 - 2))) * (fl(9) / (fl(2)*fl(9 - 2))) / (fl(11) / (fl(2)*fl(11 - 2)))",
      "metadata": {
        "trusted": true
      },
      "execution_count": 12,
      "outputs": []
    },
    {
      "cell_type": "markdown",
      "source": "$P(A31) =  \\frac{C_{7}^{1} * C_{3}^{1}}{C_{10}^{2} }$\n\n$P(A33) =  \\frac{C_{9}^{1} * C_{2}^{1}}{C_{11}^{2} }$",
      "metadata": {}
    },
    {
      "cell_type": "code",
      "source": "PA31 = (fl(7) / (fl(1)*fl(7 - 1)) * fl(3)) / (fl(1)*fl(3 - 1)) / (fl(10) / (fl(2)*fl(10 - 2))) \nPA32 = (fl(9) / (fl(1)*fl(9 - 1)) * fl(2)) / (fl(1)*fl(2 - 1)) / (fl(11) / (fl(2)*fl(11 - 2)))",
      "metadata": {
        "trusted": true
      },
      "execution_count": 13,
      "outputs": []
    },
    {
      "cell_type": "code",
      "source": "PA = PA11A12 + PA21A22 + PA31 * PA32\nprint(f'Вероятность того, что вынут ровно два белых мяча = {PA :.3f}')",
      "metadata": {
        "trusted": true
      },
      "execution_count": 14,
      "outputs": [
        {
          "name": "stdout",
          "text": "Вероятность того, что вынут ровно два белых мяча = 0.205\n",
          "output_type": "stream"
        }
      ]
    },
    {
      "cell_type": "code",
      "source": "PA = 1 - (fl(3) / (fl(2)*fl(3 - 2))) / (fl(10) / (fl(2)*fl(10 - 2))) * (fl(2) / (fl(2)*fl(2 - 2))) / (fl(11) / (fl(2)*fl(11 - 2)))\nprint(f'Вероятность того, что вытянут хотя бы один белый мяч = {PA :.3f}')",
      "metadata": {
        "trusted": true
      },
      "execution_count": 15,
      "outputs": [
        {
          "name": "stdout",
          "text": "Вероятность того, что вытянут хотя бы один белый мяч = 0.999\n",
          "output_type": "stream"
        }
      ]
    },
    {
      "cell_type": "code",
      "source": "",
      "metadata": {},
      "execution_count": null,
      "outputs": []
    }
  ]
}