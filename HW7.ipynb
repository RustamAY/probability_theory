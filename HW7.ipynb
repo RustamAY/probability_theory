{
  "metadata": {
    "language_info": {
      "codemirror_mode": {
        "name": "python",
        "version": 3
      },
      "file_extension": ".py",
      "mimetype": "text/x-python",
      "name": "python",
      "nbconvert_exporter": "python",
      "pygments_lexer": "ipython3",
      "version": "3.8"
    },
    "kernelspec": {
      "name": "python",
      "display_name": "Python (Pyodide)",
      "language": "python"
    }
  },
  "nbformat_minor": 4,
  "nbformat": 4,
  "cells": [
    {
      "cell_type": "code",
      "source": "import numpy as np\nimport scipy.stats as stats",
      "metadata": {
        "trusted": true
      },
      "execution_count": 1,
      "outputs": []
    },
    {
      "cell_type": "markdown",
      "source": "Урок 7. Непараметрические тесты\n1-4 задачи решать с помощью функций, 5ю вручную\n\nВыбрать тест и проверить, есть  ли различия между выборками:\n\n1. Даны две  независимые выборки. Не соблюдается условие нормальности\n\nx1  380,420, 290\n\ny1 140,360,200,900\n\nСделайте вывод по результатам, полученным с помощью функции",
      "metadata": {}
    },
    {
      "cell_type": "code",
      "source": "x1 = np.array([380, 420, 290])\ny1 = np.array([140, 360, 200, 900])\nstats.mannwhitneyu(x1, y1)",
      "metadata": {
        "trusted": true
      },
      "execution_count": 2,
      "outputs": [
        {
          "execution_count": 2,
          "output_type": "execute_result",
          "data": {
            "text/plain": "MannwhitneyuResult(statistic=8.0, pvalue=0.6285714285714286)"
          },
          "metadata": {}
        }
      ]
    },
    {
      "cell_type": "markdown",
      "source": "2. Исследовалось влияние препарата на уровень давления пациентов. Сначала измерялось давление до приема препарата, потом через 10 минут и через 30 минут. Есть ли статистически значимые различия?\n\n1е измерение до приема препарата: 150, 160, 165, 145, 155\n\n2е измерение через 10 минут: 140, 155, 150,  130, 135\n\n3е измерение через 30 минут: 130, 130, 120, 130, 125",
      "metadata": {}
    },
    {
      "cell_type": "code",
      "source": "a = np.array([150, 160, 165, 145, 155])\nb = np.array([140, 155, 150, 130, 135])\nc = np.array([130, 130, 120, 130, 125])\nstats.friedmanchisquare(a, b, c)",
      "metadata": {
        "trusted": true
      },
      "execution_count": 3,
      "outputs": [
        {
          "execution_count": 3,
          "output_type": "execute_result",
          "data": {
            "text/plain": "FriedmanchisquareResult(statistic=9.578947368421062, pvalue=0.00831683351100441)"
          },
          "metadata": {}
        }
      ]
    },
    {
      "cell_type": "markdown",
      "source": "p-value < 5%, после приема препарата после каждого измерения давления есть значимые различия",
      "metadata": {}
    },
    {
      "cell_type": "markdown",
      "source": "3. Сравните 1 и 2 е измерения, предполагая, что 3го измерения через 30 минут не было.",
      "metadata": {}
    },
    {
      "cell_type": "code",
      "source": "a = np.array([150, 160, 165, 145, 155])\nb = np.array([140, 155, 150, 130, 135])\nstats.wilcoxon(a, b)",
      "metadata": {
        "trusted": true
      },
      "execution_count": 7,
      "outputs": [
        {
          "execution_count": 7,
          "output_type": "execute_result",
          "data": {
            "text/plain": "WilcoxonResult(statistic=0.0, pvalue=0.0625)"
          },
          "metadata": {}
        }
      ]
    },
    {
      "cell_type": "markdown",
      "source": "4. Даны 3 группы  учеников плавания.\nВ 1 группе время на дистанцию 50 м составляют: 56, 60, 62, 55, 71, 67, 59, 58, 64, 67\n\nВторая группа : 57, 58, 69, 48, 72, 70, 68, 71, 50, 53\n\nТретья группа: 57, 67, 49, 48, 47, 55, 66, 51, 54",
      "metadata": {}
    },
    {
      "cell_type": "code",
      "source": "gr1 = np.array([56, 60, 62, 55, 71, 67, 59, 58, 64, 67])\ngr2 = np.array([57, 58, 69, 48, 72, 70, 68, 71, 50, 53])\ngr3 = np.array([57, 67, 49, 48, 47, 55, 66, 51, 54])\nstats.kruskal(gr1, gr2, gr3)",
      "metadata": {
        "trusted": true
      },
      "execution_count": 4,
      "outputs": [
        {
          "execution_count": 4,
          "output_type": "execute_result",
          "data": {
            "text/plain": "KruskalResult(statistic=5.465564058257224, pvalue=0.0650380998590494)"
          },
          "metadata": {}
        }
      ]
    },
    {
      "cell_type": "markdown",
      "source": "5. Заявляется, что партия изготавливается со средним арифметическим 2,5 см. Проверить данную гипотезу, если известно, что размеры изделий подчинены нормальному закону распределения. Объем выборки 10, уровень статистической значимости 5%\n\n2.51, 2.35, 2.74, 2.56, 2.40, 2.36, 2.65, 2.7, 2.67, 2.34",
      "metadata": {}
    },
    {
      "cell_type": "code",
      "source": "",
      "metadata": {},
      "execution_count": null,
      "outputs": []
    }
  ]
}